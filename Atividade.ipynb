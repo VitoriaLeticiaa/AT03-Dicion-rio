{
  "nbformat": 4,
  "nbformat_minor": 0,
  "metadata": {
    "colab": {
      "provenance": [],
      "authorship_tag": "ABX9TyOqaEEteRJiAzBgR07JxyHj",
      "include_colab_link": true
    },
    "kernelspec": {
      "name": "python3",
      "display_name": "Python 3"
    },
    "language_info": {
      "name": "python"
    }
  },
  "cells": [
    {
      "cell_type": "markdown",
      "metadata": {
        "id": "view-in-github",
        "colab_type": "text"
      },
      "source": [
        "<a href=\"https://colab.research.google.com/github/VitoriaLeticiaa/AT03-Dicion-rio/blob/main/Atividade.ipynb\" target=\"_parent\"><img src=\"https://colab.research.google.com/assets/colab-badge.svg\" alt=\"Open In Colab\"/></a>"
      ]
    },
    {
      "cell_type": "code",
      "execution_count": null,
      "metadata": {
        "colab": {
          "base_uri": "https://localhost:8080/"
        },
        "id": "TbkMtuKS7PdE",
        "outputId": "f1af1846-0263-4487-b1d4-ffe7aead6a5f"
      },
      "outputs": [
        {
          "output_type": "stream",
          "name": "stdout",
          "text": [
            "{'Teo': 8.5, 'Cristiano': 8.9, 'Matson': 7.7}\n"
          ]
        }
      ],
      "source": [
        "notas = {'Teo': 8.5, 'Cristiano': 8.9, 'Matson': 7.7}\n",
        "print(notas)"
      ]
    },
    {
      "cell_type": "code",
      "source": [
        "print(notas['Matson'])"
      ],
      "metadata": {
        "colab": {
          "base_uri": "https://localhost:8080/"
        },
        "id": "rYzJHuIV8Wlk",
        "outputId": "bd9d9d46-f26b-48aa-f86b-4415171558d3"
      },
      "execution_count": null,
      "outputs": [
        {
          "output_type": "stream",
          "name": "stdout",
          "text": [
            "7.7\n"
          ]
        }
      ]
    },
    {
      "cell_type": "code",
      "source": [
        "notas['Bruna']= 8.7\n",
        "print(notas)"
      ],
      "metadata": {
        "colab": {
          "base_uri": "https://localhost:8080/"
        },
        "id": "M1TIJiZY8yhL",
        "outputId": "32813442-4088-4315-bab1-55a6f897ab5f"
      },
      "execution_count": null,
      "outputs": [
        {
          "output_type": "stream",
          "name": "stdout",
          "text": [
            "{'Teo': 8.5, 'Cristiano': 8.9, 'Matson': 7.7, 'Bruna': 8.7}\n"
          ]
        }
      ]
    },
    {
      "cell_type": "code",
      "source": [
        "notas['Teo'] = 9.2\n",
        "print(notas)"
      ],
      "metadata": {
        "colab": {
          "base_uri": "https://localhost:8080/"
        },
        "id": "wJfEkAqM9FbV",
        "outputId": "4f7ae835-1477-4dbe-eb38-b1a9dddc8309"
      },
      "execution_count": null,
      "outputs": [
        {
          "output_type": "stream",
          "name": "stdout",
          "text": [
            "{'Teo': 9.2, 'Cristiano': 8.9, 'Matson': 7.7, 'Bruna': 8.7}\n"
          ]
        }
      ]
    },
    {
      "cell_type": "code",
      "source": [
        "print('Carlos' in notas)"
      ],
      "metadata": {
        "colab": {
          "base_uri": "https://localhost:8080/"
        },
        "id": "7ShQqxHB9dcl",
        "outputId": "56866bd5-0d5c-4ec0-efe6-c876d4baacd5"
      },
      "execution_count": null,
      "outputs": [
        {
          "output_type": "stream",
          "name": "stdout",
          "text": [
            "False\n"
          ]
        }
      ]
    },
    {
      "cell_type": "code",
      "source": [
        "del notas['Matson']\n",
        "print(notas)"
      ],
      "metadata": {
        "colab": {
          "base_uri": "https://localhost:8080/"
        },
        "id": "DBp-NOja9sIe",
        "outputId": "5e489fe8-ff6f-46eb-c83a-5bdafc7559f8"
      },
      "execution_count": null,
      "outputs": [
        {
          "output_type": "stream",
          "name": "stdout",
          "text": [
            "{'Teo': 9.2, 'Cristiano': 8.9, 'Bruna': 8.7}\n"
          ]
        }
      ]
    },
    {
      "cell_type": "code",
      "source": [
        "notas['Thaynan']= 6.5\n",
        "print(notas)\n",
        "\n",
        "notas['Celeste']= 10.0\n",
        "print(notas)\n",
        "\n",
        "\n",
        "\n"
      ],
      "metadata": {
        "colab": {
          "base_uri": "https://localhost:8080/"
        },
        "id": "fO6DzTBK-GoW",
        "outputId": "9ab6bcfb-d0b2-4a09-95d5-f64683e107df"
      },
      "execution_count": null,
      "outputs": [
        {
          "output_type": "stream",
          "name": "stdout",
          "text": [
            "{'Teo': 9.2, 'Cristiano': 8.9, 'Bruna': 8.7, 'Thaynan': 6.5}\n",
            "{'Teo': 9.2, 'Cristiano': 8.9, 'Bruna': 8.7, 'Thaynan': 6.5, 'Celeste': 10.0}\n"
          ]
        }
      ]
    },
    {
      "cell_type": "code",
      "source": [
        "notas.keys()"
      ],
      "metadata": {
        "colab": {
          "base_uri": "https://localhost:8080/"
        },
        "id": "Y1Aeuw9p-n4n",
        "outputId": "2de6c68c-5412-4d59-bc71-e509de004394"
      },
      "execution_count": null,
      "outputs": [
        {
          "output_type": "execute_result",
          "data": {
            "text/plain": [
              "dict_keys(['Teo', 'Cristiano', 'Bruna', 'Thaynan', 'Celeste'])"
            ]
          },
          "metadata": {},
          "execution_count": 8
        }
      ]
    },
    {
      "cell_type": "code",
      "source": [
        "notas.values()"
      ],
      "metadata": {
        "colab": {
          "base_uri": "https://localhost:8080/"
        },
        "id": "pPidiNWt-uJg",
        "outputId": "4e72b6a4-441f-4814-bf89-94b032415e02"
      },
      "execution_count": null,
      "outputs": [
        {
          "output_type": "execute_result",
          "data": {
            "text/plain": [
              "dict_values([9.2, 8.9, 8.7, 6.5, 10.0])"
            ]
          },
          "metadata": {},
          "execution_count": 9
        }
      ]
    },
    {
      "cell_type": "markdown",
      "source": [],
      "metadata": {
        "id": "_Y31Nu-qE2oe"
      }
    },
    {
      "cell_type": "code",
      "source": [
        "notas.get('Islla', 'Aluno não encontrado')"
      ],
      "metadata": {
        "colab": {
          "base_uri": "https://localhost:8080/",
          "height": 35
        },
        "id": "sdFX-nRg-_t4",
        "outputId": "8f35c688-758b-422e-c9b8-c1bbb3d07220"
      },
      "execution_count": null,
      "outputs": [
        {
          "output_type": "execute_result",
          "data": {
            "text/plain": [
              "'Aluno não encontrado'"
            ],
            "application/vnd.google.colaboratory.intrinsic+json": {
              "type": "string"
            }
          },
          "metadata": {},
          "execution_count": 10
        }
      ]
    },
    {
      "cell_type": "code",
      "source": [
        "notas.get('Celeste', ' \"Aluno não encontrado\"')"
      ],
      "metadata": {
        "colab": {
          "base_uri": "https://localhost:8080/"
        },
        "id": "xyIx8DTk_TXI",
        "outputId": "83d02ca6-2831-49aa-a5fd-042ee23467ef"
      },
      "execution_count": null,
      "outputs": [
        {
          "output_type": "execute_result",
          "data": {
            "text/plain": [
              "10.0"
            ]
          },
          "metadata": {},
          "execution_count": 11
        }
      ]
    }
  ]
}